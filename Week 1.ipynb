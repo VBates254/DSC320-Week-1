{
 "cells": [
  {
   "cell_type": "code",
   "execution_count": 6,
   "id": "c3d2dcdf-b1ba-4379-bd8d-292ecbb67a75",
   "metadata": {},
   "outputs": [
    {
     "name": "stderr",
     "output_type": "stream",
     "text": [
      "Matplotlib is building the font cache; this may take a moment.\n"
     ]
    },
    {
     "name": "stdout",
     "output_type": "stream",
     "text": [
      "11.224972160321824\n",
      "55064.0688338987\n"
     ]
    }
   ],
   "source": [
    "# Victoria Bates\n",
    "# Week 1 Assignment DSC320\n",
    "\n",
    "# Libraries\n",
    "\n",
    "import numpy as np\n",
    "import pandas as pd\n",
    "import matplotlib.pyplot as plt\n",
    "\n",
    "\n",
    "# Part 1.a - Create a function that takes in two numerical arrays of the same length as actual values and calculates the RMSE between them\n",
    "arr1 = np.array([10, 23, 14, 49, 67])  # array 1 \n",
    "arr2 = np.array([15, 25, 35, 45, 55])  # array 2 \n",
    "\n",
    "# defining parts of RMSE Formula\n",
    "# RMSE = math.sqrt((1/n)(((yh1 - y1)**2) + ((yh2 - y2)**2) + ((yh3 + y3)**2) + ((yh4 + y4)**2) + ((yh5 + y5)**2)))\n",
    "# calc residual, calc norm of residual for each data point, calc mean, square them, take sqrt of mean\n",
    "# sum of sqrt((abs(yhat - y))**2)\n",
    "\n",
    "predictions = arr1\n",
    "targets = arr2\n",
    "\n",
    "def RMSE(predictions, targets):\n",
    "    differences = predictions - targets\n",
    "    differences_squared = differences**2\n",
    "    mean_of_diff_squared = differences_squared.mean()\n",
    "    rmse_val = np.sqrt(mean_of_diff_squared)\n",
    "    print(rmse_val)\n",
    "\n",
    "RMSE(predictions, targets)\n",
    "\n",
    "# read in the data/csv file\n",
    "df = pd.read_csv(\"housing_data.csv\")\n",
    "\n",
    "# defining predictions and targets\n",
    "predictions = df.sale_price_pred\n",
    "targets = df.sale_price\n",
    "\n",
    "# defining RMSE function\n",
    "def RMSE(predictions, targets):\n",
    "  diff = predictions - targets\n",
    "  diff_squared = diff**2\n",
    "  mean_of_diff_squared = diff_squared.mean()\n",
    "  rmse_val = np.sqrt(mean_of_diff_squared)\n",
    "  print(rmse_val)\n",
    "\n",
    "RMSE(predictions, targets)\n"
   ]
  },
  {
   "cell_type": "code",
   "execution_count": 4,
   "id": "ff0ac968-3613-4a3f-ad26-9ba1301dab9e",
   "metadata": {},
   "outputs": [
    {
     "name": "stdout",
     "output_type": "stream",
     "text": [
      "55064.0688338987\n"
     ]
    }
   ],
   "source": [
    "# Part 1.b - Apply your RMSE function to the columns \"sale_price\" and \"sale_price_pred\" in the file housing_data.csv\n",
    "import numpy as np\n",
    "import pandas as pd\n",
    "\n",
    "# read in the data/csv file\n",
    "df = pd.read_csv(\"housing_data.csv\")\n",
    "\n",
    "# defining predictions and targets\n",
    "predictions = df.sale_price_pred\n",
    "targets = df.sale_price\n",
    "\n",
    "# defining RMSE function\n",
    "def RMSE(predictions, targets):\n",
    "  diff = predictions - targets\n",
    "  diff_squared = diff**2\n",
    "  mean_of_diff_squared = diff_squared.mean()\n",
    "  rmse_val = np.sqrt(mean_of_diff_squared)\n",
    "  print(rmse_val)\n",
    "\n",
    "RMSE(predictions, targets)"
   ]
  },
  {
   "cell_type": "code",
   "execution_count": 8,
   "id": "badb968e-3ddd-4402-9914-dffc0ac00b2a",
   "metadata": {},
   "outputs": [
    {
     "name": "stdout",
     "output_type": "stream",
     "text": [
      "8.8\n"
     ]
    }
   ],
   "source": [
    "# Part 2.a - Repeat problem (1a) above with MAE\n",
    "import numpy as np\n",
    "\n",
    "# making arrays\n",
    "arr1 = np.array([10, 23, 14, 49, 67])\n",
    "arr2 = np.array([15, 25, 35, 45, 55])\n",
    "\n",
    "# defining predictions and targets\n",
    "predictions = arr1\n",
    "targets = arr2\n",
    "\n",
    "# defining MAE function\n",
    "def MAE(predictions, targets):\n",
    "    differences = predictions - targets\n",
    "    abs_differences = np.abs(differences)\n",
    "    mean_of_abs_differences = abs_differences.mean()\n",
    "    mae_val = mean_of_abs_differences\n",
    "    print(mae_val)\n",
    "\n",
    "MAE(predictions, targets)"
   ]
  },
  {
   "cell_type": "code",
   "execution_count": 10,
   "id": "f2937e6e-afa3-422f-a998-43dc48fe09f3",
   "metadata": {},
   "outputs": [
    {
     "name": "stdout",
     "output_type": "stream",
     "text": [
      "37438.68916270548\n"
     ]
    }
   ],
   "source": [
    "# Part 2.b - Repeat problem (1b) above with MAE\n",
    "import numpy as np\n",
    "import pandas as pd\n",
    "\n",
    "# read in the data/csv file\n",
    "df = pd.read_csv(\"housing_data.csv\")\n",
    "\n",
    "# defining predictions and targets\n",
    "predictions = df.sale_price_pred\n",
    "targets = df.sale_price\n",
    "\n",
    "# defining MAE function\n",
    "def MAE(predictions, targets):\n",
    "  differences = predictions - targets\n",
    "  abs_differences = np.abs(differences)\n",
    "  mean_of_abs_differences = abs_differences.mean()\n",
    "  mae_val = mean_of_abs_differences\n",
    "  print(mae_val)\n",
    "\n",
    "MAE(predictions, targets)"
   ]
  },
  {
   "cell_type": "code",
   "execution_count": 12,
   "id": "5f0de262-8192-4ee5-8418-3d09eea32ffc",
   "metadata": {},
   "outputs": [
    {
     "name": "stdout",
     "output_type": "stream",
     "text": [
      "Accuracy:  85 %\n"
     ]
    }
   ],
   "source": [
    "# Part 3.a - Build a function that takes in two binary arrays of the same length, where one is actual calues and the other is predictions, that calculates the accuracy of the predictions\n",
    "# Part 3.b - Apply the accuracy function to mushroom_data\n",
    "import pandas as pd\n",
    "\n",
    "# read data file/csv\n",
    "df = pd.read_csv(\"mushroom_data.csv\")\n",
    "\n",
    "# data\n",
    "# print(df)  # just a visual to help me keep my thoughts on the right track\n",
    "\n",
    "# accuracy calculation\n",
    "actual = df.actual\n",
    "prediction = df.predicted\n",
    "\n",
    "def accuracy(actual, predicted):\n",
    "  score = 0\n",
    "  for i in range(len(actual)):\n",
    "    if actual.values[i] == predicted.values[i]:\n",
    "      score += 1\n",
    "\n",
    "  accuracy_score = (score / len(actual)) * 100 # calc accuracy for percentage\n",
    "  print(\"Accuracy: \", round(accuracy_score), \"%\") # rounds score to whole number\n",
    "\n",
    "accuracy(actual, prediction)\n"
   ]
  },
  {
   "cell_type": "code",
   "execution_count": 14,
   "id": "ded5992e-d587-4199-80de-31c9ea00350c",
   "metadata": {},
   "outputs": [
    {
     "name": "stdout",
     "output_type": "stream",
     "text": [
      "Value of p that minimizes error: 1.7573232813183495\n"
     ]
    },
    {
     "data": {
      "image/png": "[encoded data removed]",
      "text/plain": [
       "<Figure size 800x500 with 1 Axes>"
      ]
     },
     "metadata": {},
     "output_type": "display_data"
    }
   ],
   "source": [
    "# Part 4 - Assume that the error is a model measured by the given function. Use matplotlib to plot this function, use your graph to estimate the value of p that minimizes the erros and report your result, and use your graph to estimate the minimum error and rerport your result.\n",
    "\n",
    "# f(x) = 0.005p^6 - 0.27p^5 + 5.998p^4 - 69.919p^3 + 449.17p^2 - 1499.7p +2028\n",
    "# where p is a parameter of the model\n",
    "\n",
    "import matplotlib.pyplot as plt\n",
    "import numpy as np\n",
    "import pandas as pd\n",
    "import sklearn.linear_model\n",
    "from scipy.optimize import minimize\n",
    "\n",
    "plt.rcParams[\"figure.figsize\"] = [8, 5]\n",
    "plt.rcParams[\"figure.autolayout\"] = True\n",
    "\n",
    "def fx(p):\n",
    "  return 0.005 * (p**6) - 0.27 * (p**5) + 5.998 * (p**4) - 69.919 * (p**3) + 449.17 * (p**2) - 1499.7 * p + 2028\n",
    "\n",
    "p = np.linspace(0, 10, 100)\n",
    "plt.plot(p, fx(p), color = 'blue')\n",
    "\n",
    "print(\"Value of p that minimizes error:\", min(fx(p)))\n",
    "plt.show()\n"
   ]
  },
  {
   "cell_type": "code",
   "execution_count": null,
   "id": "591deece-d86d-45b4-8a6b-2fc7283f528c",
   "metadata": {},
   "outputs": [],
   "source": []
  }
 ],
 "metadata": {
  "kernelspec": {
   "display_name": "anaconda-panel-2023.05-py310",
   "language": "python",
   "name": "conda-env-anaconda-panel-2023.05-py310-py"
  },
  "language_info": {
   "codemirror_mode": {
    "name": "ipython",
    "version": 3
   },
   "file_extension": ".py",
   "mimetype": "text/x-python",
   "name": "python",
   "nbconvert_exporter": "python",
   "pygments_lexer": "ipython3",
   "version": "3.11.5"
  }
 },
 "nbformat": 4,
 "nbformat_minor": 5
}
